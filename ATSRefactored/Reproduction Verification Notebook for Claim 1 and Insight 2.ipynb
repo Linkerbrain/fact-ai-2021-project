{
 "cells": [
  {
   "cell_type": "markdown",
   "id": "629f13e8",
   "metadata": {},
   "source": [
    "# Setup"
   ]
  },
  {
   "cell_type": "code",
   "execution_count": 8,
   "id": "6359d27d",
   "metadata": {},
   "outputs": [],
   "source": [
    "import numpy as np\n",
    "import matplotlib.pyplot as plt\n",
    "import os\n",
    "from collections import defaultdict"
   ]
  },
  {
   "cell_type": "code",
   "execution_count": 2,
   "id": "938b0f28",
   "metadata": {},
   "outputs": [],
   "source": [
    "# default settings\n",
    "class ReproductionArgs:\n",
    "    def __init__(self):\n",
    "        self.check_if_exists = False\n",
    "        self.num_random_policies_to_test = 100\n",
    "        self.augmentations_per_policy = 3\n",
    "        self.num_possible_augmentations = 50\n",
    "        \n",
    "        self.aug_list = ''\n",
    "        self.dataset_name = 'cifar100'\n",
    "        self.data_path = './data'\n",
    "        self.transform_mode = 'aug'\n",
    "        self.normalize = True\n",
    "        self.augment_validation = True\n",
    "        self.architecture = 'ResNet20-4'\n",
    "        self.model_trained_partially_path = '../models/tiny_data_cifar100_ResNet20-4_100epochs.pth'\n",
    "        self.device = 'cuda'\n",
    "        self.epochs = 100\n",
    "        self.recon_tests_per_policy = 100\n",
    "        self.num_images_per_recon_test = 1\n",
    "        self.results_dir = './results'\n",
    "        \n",
    "        self.moment_range = 5\n",
    "        \n",
    "        self.attack_type = 'inversed'\n",
    "        self.max_iters = 2500\n",
    "        self.num_images_to_evaluate = 20\n",
    "        self.optim = None\n",
    "        self.rlabel = False\n",
    "        self.resume = -1\n",
    "        self.num_images = 1\n",
    "        self.reaugment = 'none'\n",
    "        self.samples = []\n",
    "    \n",
    "args = ReproductionArgs()"
   ]
  },
  {
   "cell_type": "markdown",
   "id": "cafe2376",
   "metadata": {},
   "source": [
    "# Experiment \\#1 Correlation"
   ]
  },
  {
   "cell_type": "markdown",
   "id": "a0f5745f",
   "metadata": {},
   "source": [
    "You may need to update ipython widgets for the torchvision download to work in jupyter notebook:\n",
    "\n",
    "```pip install jupyter --upgrade```\n",
    "\n",
    "```pip install ipywidgets --upgrade```\n",
    "\n",
    "```jupyter nbextension enable --py widgetsnbextension```\n",
    "\n",
    "(Kernel Restart after)"
   ]
  },
  {
   "cell_type": "markdown",
   "id": "f22c9719",
   "metadata": {},
   "source": [
    "### Evaluate single datapoint"
   ]
  },
  {
   "cell_type": "code",
   "execution_count": 6,
   "id": "94cebbf9",
   "metadata": {
    "scrolled": true
   },
   "outputs": [
    {
     "name": "stderr",
     "output_type": "stream",
     "text": [
      "\r",
      "POLICY SEARCHER PROGRESS::   0%|                                                                 | 0/1 [00:00<?, ?it/s]"
     ]
    },
    {
     "name": "stdout",
     "output_type": "stream",
     "text": [
      "Currently evaluating -------------------------------:\n",
      "Friday, 04. February 2022 05:34PM\n",
      "CPUs: 12, GPUs: 1 on DESKTOP-0VPE5PG.\n",
      "GPU : NVIDIA GeForce RTX 2070 SUPER\n",
      "Files already downloaded and verified\n",
      "Files already downloaded and verified\n",
      "attack 0th in 1-2-3\n",
      "ground truth label is  tensor([49], device='cuda:0')\n",
      "It: 0. Rec. loss: 0.8677.\n",
      "It: 49. Rec. loss: 0.6821.\n",
      "Choosing optimal result ...\n",
      "tensor([0.6820])\n",
      "Optimal result score: 0.6820\n",
      "Total time: 1.5680017471313477.\n",
      "after optimization, the true mse loss 0.2394668459892273\n",
      "> Evaluating privacy metrics for 1-2-3...\n"
     ]
    },
    {
     "name": "stderr",
     "output_type": "stream",
     "text": [
      "POLICY SEARCHER PROGRESS:: 100%|█████████████████████████████████████████████████████████| 1/1 [00:03<00:00,  3.43s/it]"
     ]
    },
    {
     "name": "stdout",
     "output_type": "stream",
     "text": [
      "Done! 1-2-3 scored 0.258 on average in reconstruction/area under curve metric\n",
      "1-2-3 scored 0.25761246932666 & 6.207546234130859 db (evalled in 1.9189999103546143 seconds)\n",
      "Saved privacy score in ./results_reproduction_notebook\\correlation/data_cifar100_arch_ResNet20-4/1-2-3_privacy_score\n",
      "Saved attack_PSNR in ./results_reproduction_notebook\\correlation/data_cifar100_arch_ResNet20-4/1-2-3_attack_PSNR\n"
     ]
    },
    {
     "name": "stderr",
     "output_type": "stream",
     "text": [
      "\n"
     ]
    }
   ],
   "source": [
    "from correlation_test import CorrelationTest\n",
    "\n",
    "\"\"\" settings for single test \"\"\"\n",
    "args.check_if_exists = False\n",
    "args.num_random_policies_to_test = 1 # our test: 100, paper: 100\n",
    "args.num_images_to_evaluate = 1 # our test: 20, paper: 100\n",
    "args.recon_tests_per_policy = 1 # our test: 100, paper: 100\n",
    "args.results_dir = './results_reproduction_notebook'\n",
    "\n",
    "args.max_iters = 50 # our test: 2500, paper: 2500\n",
    "\n",
    "# initiate tester\n",
    "single_corr_tester = CorrelationTest(args)\n",
    "\n",
    "# choose your favorite policy\n",
    "policies_to_test = ['1-2-3']\n",
    "\n",
    "# run test\n",
    "single_corr_tester.perform_test(policies_to_test)"
   ]
  },
  {
   "cell_type": "markdown",
   "id": "b24a8d10",
   "metadata": {},
   "source": [
    "### Evaluate all datapoints (commented to not run, takes 48h)"
   ]
  },
  {
   "cell_type": "code",
   "execution_count": null,
   "id": "16f2b320",
   "metadata": {},
   "outputs": [],
   "source": [
    "# \"\"\" settings for single test \"\"\"\n",
    "# args.check_if_exists = True\n",
    "# args.num_random_policies_to_test = 100 # our test: 100, paper: 100\n",
    "# args.num_images_to_evaluate = 20 # our test: 20, paper: 100\n",
    "# args.recon_tests_per_policy = 100 # our test: 100, paper: 100\n",
    "# args.results_dir = './results'\n",
    "\n",
    "# args.max_iters = 2500 # our test: 2500, paper: 2500\n",
    "\n",
    "# # initiate tester\n",
    "# tester = CorrelationTest(args)\n",
    "# random_policies = tester.make_policy_list()\n",
    "\n",
    "# # choose your favorite policy\n",
    "# policies_to_test = ['1-2-3']\n",
    "\n",
    "# # run test\n",
    "# single_corr_tester.perform_test(random_policies)"
   ]
  },
  {
   "cell_type": "markdown",
   "id": "931d1cce",
   "metadata": {},
   "source": [
    "### Plot Results"
   ]
  },
  {
   "cell_type": "code",
   "execution_count": 12,
   "id": "9176ec8c",
   "metadata": {},
   "outputs": [
    {
     "data": {
      "image/png": "[encoded data removed]",
      "text/plain": [
       "<Figure size 432x288 with 1 Axes>"
      ]
     },
     "metadata": {
      "needs_background": "light"
     },
     "output_type": "display_data"
    }
   ],
   "source": [
    "dataset = 'cifar100'\n",
    "architecture = 'ResNet20-4'\n",
    "results_folder = '../results'\n",
    "folder_name = f\"data_{dataset}_arch_{architecture}\"\n",
    "correlation_folder = results_folder+'/correlation/'+folder_name+'/'\n",
    "\n",
    "scores = defaultdict(lambda: [0,0])\n",
    "for i, filename in enumerate(os.listdir(correlation_folder)):\n",
    "    # psnr scores\n",
    "    if filename[-6:] == \"NR.npy\":\n",
    "        scores[filename.split(\"_\")[0]][0] = float(np.load(correlation_folder+filename))\n",
    "        \n",
    "    # privacy scores\n",
    "    if filename[-6:] == \"re.npy\":\n",
    "        scores[filename.split(\"_\")[0]][1] = float(np.load(correlation_folder+filename))\n",
    "        \n",
    "fig, ax = plt.subplots()\n",
    "\n",
    "psnrs = [a[0] for a in scores.values()]\n",
    "privs = [a[1] for a in scores.values()]\n",
    "\n",
    "ax.set_ylabel(\"PSNR\")\n",
    "ax.set_xlabel(\"$\\mathregular{S_{pri}}$\")\n",
    "\n",
    "ax.set_xticks([0.25, 0.3, 0.35, 0.4, 0.45, 0.5])\n",
    "\n",
    "ax.set_title(\"Correlation Privacy Score and Reconstruction Score\")\n",
    "\n",
    "ax.scatter(privs, psnrs, label='data')\n",
    "\n",
    "m, b = np.polyfit(privs, psnrs, 1)\n",
    "ax.plot(privs, m*np.array(privs) + b, color='red', linewidth=1, alpha=0.5, label='best fitted line')\n",
    "\n",
    "plt.tight_layout()\n",
    "plt.legend()\n",
    "plt.show()"
   ]
  },
  {
   "cell_type": "markdown",
   "id": "95da85a0",
   "metadata": {},
   "source": [
    "# Insight \\#2: Uniqueness top policies"
   ]
  },
  {
   "cell_type": "code",
   "execution_count": null,
   "id": "d98e2f8c",
   "metadata": {},
   "outputs": [],
   "source": []
  }
 ],
 "metadata": {
  "kernelspec": {
   "display_name": "Python [conda env:clean] *",
   "language": "python",
   "name": "conda-env-clean-py"
  },
  "language_info": {
   "codemirror_mode": {
    "name": "ipython",
    "version": 3
   },
   "file_extension": ".py",
   "mimetype": "text/x-python",
   "name": "python",
   "nbconvert_exporter": "python",
   "pygments_lexer": "ipython3",
   "version": "3.9.7"
  }
 },
 "nbformat": 4,
 "nbformat_minor": 5
}
