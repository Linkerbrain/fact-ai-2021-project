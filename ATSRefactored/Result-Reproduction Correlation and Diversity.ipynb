{
 "cells": [
  {
   "cell_type": "markdown",
   "id": "629f13e8",
   "metadata": {},
   "source": [
    "# Setup"
   ]
  },
  {
   "cell_type": "code",
   "execution_count": 26,
   "id": "6359d27d",
   "metadata": {},
   "outputs": [],
   "source": [
    "import numpy as np\n",
    "import matplotlib.pyplot as plt\n",
    "import os\n",
    "from collections import defaultdict\n",
    "import random\n",
    "\n",
    "random.seed(42)"
   ]
  },
  {
   "cell_type": "code",
   "execution_count": 2,
   "id": "938b0f28",
   "metadata": {},
   "outputs": [],
   "source": [
    "# default settings\n",
    "class ReproductionArgs:\n",
    "    def __init__(self):\n",
    "        self.check_if_exists = False\n",
    "        self.num_random_policies_to_test = 100\n",
    "        self.augmentations_per_policy = 3\n",
    "        self.num_possible_augmentations = 50\n",
    "        \n",
    "        self.aug_list = ''\n",
    "        self.dataset_name = 'cifar100'\n",
    "        self.data_path = './data'\n",
    "        self.transform_mode = 'aug'\n",
    "        self.normalize = True\n",
    "        self.augment_validation = True\n",
    "        self.architecture = 'ResNet20-4'\n",
    "        self.model_trained_partially_path = '../models/tiny_data_cifar100_ResNet20-4_100epochs.pth'\n",
    "        self.device = 'cuda'\n",
    "        self.epochs = 100\n",
    "        self.recon_tests_per_policy = 100\n",
    "        self.num_images_per_recon_test = 1\n",
    "        self.results_dir = './results'\n",
    "        \n",
    "        self.moment_range = 5\n",
    "        \n",
    "        self.attack_type = 'inversed'\n",
    "        self.max_iters = 2500\n",
    "        self.num_images_to_evaluate = 20\n",
    "        self.optim = None\n",
    "        self.rlabel = False\n",
    "        self.resume = -1\n",
    "        self.num_images = 1\n",
    "        self.reaugment = 'none'\n",
    "        self.samples = []\n",
    "    \n",
    "args = ReproductionArgs()"
   ]
  },
  {
   "cell_type": "markdown",
   "id": "cafe2376",
   "metadata": {},
   "source": [
    "# Experiment \\#1 Correlation"
   ]
  },
  {
   "cell_type": "markdown",
   "id": "02efa0d5",
   "metadata": {},
   "source": [
    "You may need to update ipython widgets for the torchvision download to work in jupyter notebook:\n",
    "\n",
    "```pip install jupyter --upgrade```\n",
    "\n",
    "```pip install ipywidgets --upgrade```\n",
    "\n",
    "```jupyter nbextension enable --py widgetsnbextension```\n",
    "\n",
    "(Kernel Restart after)"
   ]
  },
  {
   "cell_type": "markdown",
   "id": "f22c9719",
   "metadata": {},
   "source": [
    "### Evaluate single datapoint"
   ]
  },
  {
   "cell_type": "code",
   "execution_count": 6,
   "id": "94cebbf9",
   "metadata": {
    "scrolled": true
   },
   "outputs": [
    {
     "name": "stderr",
     "output_type": "stream",
     "text": [
      "\r",
      "POLICY SEARCHER PROGRESS::   0%|                                                                 | 0/1 [00:00<?, ?it/s]"
     ]
    },
    {
     "name": "stdout",
     "output_type": "stream",
     "text": [
      "Currently evaluating -------------------------------:\n",
      "Friday, 04. February 2022 05:34PM\n",
      "CPUs: 12, GPUs: 1 on DESKTOP-0VPE5PG.\n",
      "GPU : NVIDIA GeForce RTX 2070 SUPER\n",
      "Files already downloaded and verified\n",
      "Files already downloaded and verified\n",
      "attack 0th in 1-2-3\n",
      "ground truth label is  tensor([49], device='cuda:0')\n",
      "It: 0. Rec. loss: 0.8677.\n",
      "It: 49. Rec. loss: 0.6821.\n",
      "Choosing optimal result ...\n",
      "tensor([0.6820])\n",
      "Optimal result score: 0.6820\n",
      "Total time: 1.5680017471313477.\n",
      "after optimization, the true mse loss 0.2394668459892273\n",
      "> Evaluating privacy metrics for 1-2-3...\n"
     ]
    },
    {
     "name": "stderr",
     "output_type": "stream",
     "text": [
      "POLICY SEARCHER PROGRESS:: 100%|█████████████████████████████████████████████████████████| 1/1 [00:03<00:00,  3.43s/it]"
     ]
    },
    {
     "name": "stdout",
     "output_type": "stream",
     "text": [
      "Done! 1-2-3 scored 0.258 on average in reconstruction/area under curve metric\n",
      "1-2-3 scored 0.25761246932666 & 6.207546234130859 db (evalled in 1.9189999103546143 seconds)\n",
      "Saved privacy score in ./results_reproduction_notebook\\correlation/data_cifar100_arch_ResNet20-4/1-2-3_privacy_score\n",
      "Saved attack_PSNR in ./results_reproduction_notebook\\correlation/data_cifar100_arch_ResNet20-4/1-2-3_attack_PSNR\n"
     ]
    },
    {
     "name": "stderr",
     "output_type": "stream",
     "text": [
      "\n"
     ]
    }
   ],
   "source": [
    "from correlation_test import CorrelationTest\n",
    "\n",
    "\"\"\" settings for single test \"\"\"\n",
    "args.check_if_exists = False\n",
    "args.num_random_policies_to_test = 1 # our test: 100, paper: 100\n",
    "args.num_images_to_evaluate = 1 # our test: 20, paper: 100\n",
    "args.recon_tests_per_policy = 1 # our test: 100, paper: 100\n",
    "args.results_dir = './results_reproduction_notebook'\n",
    "\n",
    "args.max_iters = 50 # our test: 2500, paper: 2500\n",
    "\n",
    "# initiate tester\n",
    "single_corr_tester = CorrelationTest(args)\n",
    "\n",
    "# choose your favorite policy\n",
    "policies_to_test = ['1-2-3']\n",
    "\n",
    "# run test\n",
    "single_corr_tester.perform_test(policies_to_test)"
   ]
  },
  {
   "cell_type": "markdown",
   "id": "b24a8d10",
   "metadata": {},
   "source": [
    "### Evaluate all datapoints (commented to not run, takes 48h)"
   ]
  },
  {
   "cell_type": "code",
   "execution_count": null,
   "id": "810feda4",
   "metadata": {},
   "outputs": [],
   "source": [
    "# \"\"\" settings for full test \"\"\"\n",
    "# args.check_if_exists = True\n",
    "# args.num_random_policies_to_test = 100 # our test: 100, paper: 100\n",
    "# args.num_images_to_evaluate = 20 # our test: 20, paper: 100\n",
    "# args.recon_tests_per_policy = 100 # our test: 100, paper: 100\n",
    "# args.results_dir = './results'\n",
    "\n",
    "# args.max_iters = 2500 # our test: 2500, paper: 2500\n",
    "\n",
    "# # initiate tester\n",
    "# tester = CorrelationTest(args)\n",
    "# random_policies = tester.make_policy_list()\n",
    "\n",
    "# # run test\n",
    "# single_corr_tester.perform_test(random_policies)"
   ]
  },
  {
   "cell_type": "markdown",
   "id": "976bcb84",
   "metadata": {},
   "source": [
    "### Plot Results"
   ]
  },
  {
   "cell_type": "code",
   "execution_count": 12,
   "id": "9176ec8c",
   "metadata": {},
   "outputs": [
    {
     "data": {
      "image/png": "[encoded data removed]",
      "text/plain": [
       "<Figure size 432x288 with 1 Axes>"
      ]
     },
     "metadata": {
      "needs_background": "light"
     },
     "output_type": "display_data"
    }
   ],
   "source": [
    "dataset = 'cifar100'\n",
    "architecture = 'ResNet20-4'\n",
    "results_folder = '../results'\n",
    "folder_name = f\"data_{dataset}_arch_{architecture}\"\n",
    "correlation_folder = results_folder+'/correlation/'+folder_name+'/'\n",
    "\n",
    "scores = defaultdict(lambda: [0,0])\n",
    "for i, filename in enumerate(os.listdir(correlation_folder)):\n",
    "    # psnr scores\n",
    "    if filename[-6:] == \"NR.npy\":\n",
    "        scores[filename.split(\"_\")[0]][0] = float(np.load(correlation_folder+filename))\n",
    "        \n",
    "    # privacy scores\n",
    "    if filename[-6:] == \"re.npy\":\n",
    "        scores[filename.split(\"_\")[0]][1] = float(np.load(correlation_folder+filename))\n",
    "        \n",
    "fig, ax = plt.subplots()\n",
    "\n",
    "psnrs = [a[0] for a in scores.values()]\n",
    "privs = [a[1] for a in scores.values()]\n",
    "\n",
    "ax.set_ylabel(\"PSNR\")\n",
    "ax.set_xlabel(\"$\\mathregular{S_{pri}}$\")\n",
    "\n",
    "ax.set_xticks([0.25, 0.3, 0.35, 0.4, 0.45, 0.5])\n",
    "\n",
    "ax.set_title(\"Correlation Privacy Score and Reconstruction Score\")\n",
    "\n",
    "ax.scatter(privs, psnrs, label='data')\n",
    "\n",
    "m, b = np.polyfit(privs, psnrs, 1)\n",
    "ax.plot(privs, m*np.array(privs) + b, color='red', linewidth=1, alpha=0.5, label='best fitted line')\n",
    "\n",
    "plt.tight_layout()\n",
    "plt.legend()\n",
    "plt.show()"
   ]
  },
  {
   "cell_type": "markdown",
   "id": "19a334e8",
   "metadata": {},
   "source": [
    "# Insight \\#2: Uniqueness top policies"
   ]
  },
  {
   "cell_type": "markdown",
   "id": "90c11acb",
   "metadata": {},
   "source": [
    "### Evaluate single datapoint"
   ]
  },
  {
   "cell_type": "code",
   "execution_count": 16,
   "id": "bb61fa31",
   "metadata": {},
   "outputs": [
    {
     "name": "stderr",
     "output_type": "stream",
     "text": [
      "\r",
      "POLICY SEARCHER PROGRESS::   0%|                                                                 | 0/1 [00:00<?, ?it/s]"
     ]
    },
    {
     "name": "stdout",
     "output_type": "stream",
     "text": [
      "Currently evaluating -------------------------------:\n",
      "Friday, 04. February 2022 06:43PM\n",
      "CPUs: 12, GPUs: 1 on DESKTOP-0VPE5PG.\n",
      "GPU : NVIDIA GeForce RTX 2070 SUPER\n",
      "Files already downloaded and verified\n",
      "Files already downloaded and verified\n",
      "> Evaluating reconstruction metrics for 1-2-3...\n",
      "Done! 1-2-3 scored 0.186 on average in reconstruction/area under curve metric\n",
      "Evaluating accuracy metrics for 1-2-3...\n"
     ]
    },
    {
     "name": "stderr",
     "output_type": "stream",
     "text": [
      "POLICY SEARCHER PROGRESS:: 100%|█████████████████████████████████████████████████████████| 1/1 [00:04<00:00,  4.87s/it]"
     ]
    },
    {
     "name": "stdout",
     "output_type": "stream",
     "text": [
      "Done! 1-2-3 scored -91.22065027725844 on accuracy estimation based on jacobian metric\n",
      "> Finished evaluating 1-2-3\n"
     ]
    },
    {
     "name": "stderr",
     "output_type": "stream",
     "text": [
      "\n"
     ]
    }
   ],
   "source": [
    "from policy_searcher import PolicySearcher\n",
    "\n",
    "\"\"\" settings for single test \"\"\"\n",
    "args.check_if_exists = False\n",
    "args.num_random_policies_to_test = 1 # our test: 100, paper: 100\n",
    "args.recon_tests_per_policy = 1 # our test: 100, paper: 100\n",
    "args.results_dir = './results_reproduction_notebook'\n",
    "\n",
    "# initiate tester\n",
    "single_evaluator = PolicySearcher(args)\n",
    "\n",
    "# choose your favorite policy, you can also do a single number to get evaluate a single policy\n",
    "policies_to_test = ['1-2-3']\n",
    "\n",
    "# run test\n",
    "single_evaluator.evaluate_policies(policies_to_test)"
   ]
  },
  {
   "cell_type": "markdown",
   "id": "9038e85c",
   "metadata": {},
   "source": [
    "### Evaluate all datapoints (commented to not run, takes 24h)"
   ]
  },
  {
   "cell_type": "code",
   "execution_count": 17,
   "id": "7c905757",
   "metadata": {},
   "outputs": [
    {
     "name": "stderr",
     "output_type": "stream",
     "text": [
      "\r",
      "POLICY SEARCHER PROGRESS::   0%|                                                               | 0/100 [00:00<?, ?it/s]"
     ]
    },
    {
     "name": "stdout",
     "output_type": "stream",
     "text": [
      "Currently evaluating -------------------------------:\n",
      "Friday, 04. February 2022 06:43PM\n",
      "CPUs: 12, GPUs: 1 on DESKTOP-0VPE5PG.\n",
      "GPU : NVIDIA GeForce RTX 2070 SUPER\n",
      "Files already downloaded and verified\n",
      "Files already downloaded and verified\n",
      "attack 0th in 4-0-6\n",
      "ground truth label is  tensor([49], device='cuda:0')\n",
      "It: 0. Rec. loss: 0.9197.\n",
      "Recovery interrupted manually in iteration 111!\n",
      "Choosing optimal result ...\n",
      "tensor([0.3457])\n",
      "Optimal result score: 0.3457\n",
      "Total time: 3.5992441177368164.\n",
      "after optimization, the true mse loss 0.1602751463651657\n",
      "> Evaluating privacy metrics for 4-0-6...\n"
     ]
    },
    {
     "name": "stderr",
     "output_type": "stream",
     "text": [
      "POLICY SEARCHER PROGRESS::   0%|                                                               | 0/100 [00:05<?, ?it/s]\n",
      "\n",
      "KeyboardInterrupt\n",
      "\n"
     ]
    }
   ],
   "source": [
    "# \"\"\" settings for full test \"\"\"\n",
    "# args.check_if_exists = True\n",
    "# args.num_random_policies_to_test = 1500 # our test: 100, paper: 100\n",
    "# args.recon_tests_per_policy = 100 # our test: 100, paper: 100\n",
    "# args.results_dir = './results'\n",
    "\n",
    "# # initiate tester\n",
    "# policy_searcher = PolicySearcher(args)\n",
    "# random_policies = policy_searcher.make_policy_list()\n",
    "\n",
    "# # run test\n",
    "# policy_searcher.evaluate_policies(random_policies)"
   ]
  },
  {
   "cell_type": "markdown",
   "id": "467f12b4",
   "metadata": {},
   "source": [
    "### Plot Results"
   ]
  },
  {
   "cell_type": "code",
   "execution_count": 28,
   "id": "30ba32e9",
   "metadata": {
    "scrolled": false
   },
   "outputs": [
    {
     "data": {
      "image/png": "[encoded data removed]",
      "text/plain": [
       "<Figure size 720x288 with 2 Axes>"
      ]
     },
     "metadata": {
      "needs_background": "light"
     },
     "output_type": "display_data"
    }
   ],
   "source": [
    "dataset = 'cifar100'\n",
    "architecture = 'ResNet20-4'\n",
    "\n",
    "results_folder = 'ATSRefactored/results'\n",
    "folder_name = f\"data_{dataset}_arch_{architecture}\"\n",
    "\n",
    "results = defaultdict(lambda: [0, 0])\n",
    "\n",
    "for results_folder in ['../ATSRefactored/results', '../ATSRefactored/results_all_perms']:\n",
    "    accuracy_folder = results_folder+'/accuracy/'+folder_name+'/'\n",
    "    reconstruction_folder = results_folder+'/reconstruction/'+folder_name+'/'\n",
    "\n",
    "    for i, filename in enumerate(os.listdir(accuracy_folder)):\n",
    "        policy_name = filename.split(\".npy\")[0]\n",
    "\n",
    "        acc_scores = np.load(accuracy_folder+filename).tolist()\n",
    "        acc_mean = np.mean(acc_scores)\n",
    "\n",
    "        recon_scores = np.load(reconstruction_folder+filename).tolist()\n",
    "        recon_mean = np.mean(recon_scores)\n",
    "        # filter out corrupted results\n",
    "        if acc_mean < -150:\n",
    "            continue\n",
    "\n",
    "        results[policy_name] = [acc_mean, recon_mean]\n",
    "        \n",
    "def get_overlap(name, augs):\n",
    "    pols = [int(s) for s in name.split(\"-\")]\n",
    "    \n",
    "    score = 0\n",
    "    for p in pols:\n",
    "        if p in augs:\n",
    "            score += 1\n",
    "            \n",
    "    return score\n",
    "\n",
    "def ind(dic, index):\n",
    "    return [v[index] for v in dic.values()]\n",
    "        \n",
    "best_augmentations = [3, 15, 1, 26, 12, 43, 25, 13, 4, 39]\n",
    "min_overlap = 2\n",
    "\n",
    "good_results = defaultdict(lambda: [0, 0])\n",
    "bad_results = defaultdict(lambda: [0, 0])\n",
    "\n",
    "for policy_name, result in results.items():\n",
    "    num_overlap = get_overlap(policy_name, best_augmentations)\n",
    "    \n",
    "    if num_overlap >= min_overlap:\n",
    "        good_results[policy_name] = result\n",
    "    else:\n",
    "        bad_results[policy_name] = result\n",
    "        \n",
    "fig, axes = plt.subplots(1, 2, figsize=(10, 4))\n",
    "\n",
    "bads = 1500\n",
    "random.shuffle(bad_results)\n",
    "axes[0].scatter(ind(bad_results, 1)[:bads], ind(bad_results, 0)[:bads], color=\"blue\", alpha=0.1)\n",
    "axes[1].scatter(ind(good_results, 1), ind(good_results, 0), color=\"red\", alpha=0.1)\n",
    "\n",
    "for i in range(2):\n",
    "    axes[i].scatter([0.316], [-66.8], color=\"black\", marker='X', s=200, label=\"No Policy\")\n",
    "\n",
    "    axes[i].axhline(-85, ls=\"--\", color=\"black\")\n",
    "\n",
    "    axes[i].set_xlabel(\"Privacy Score\")\n",
    "    \n",
    "    axes[i].set_ylim(-140, -60)\n",
    "    axes[i].set_xlim(0.2, 0.5)\n",
    "    axes[i].legend()\n",
    "    \n",
    "axes[0].set_ylabel(\"Accuracy Score\")\n",
    "\n",
    "axes[0].set_title(\"Policies with less than 2 top-augmentions\")\n",
    "axes[1].set_title(\"Policies with at least 2 top policies\")\n",
    "    \n",
    "plt.tight_layout()\n",
    "plt.show()"
   ]
  }
 ],
 "metadata": {
  "kernelspec": {
   "display_name": "Python [conda env:clean] *",
   "language": "python",
   "name": "conda-env-clean-py"
  },
  "language_info": {
   "codemirror_mode": {
    "name": "ipython",
    "version": 3
   },
   "file_extension": ".py",
   "mimetype": "text/x-python",
   "name": "python",
   "nbconvert_exporter": "python",
   "pygments_lexer": "ipython3",
   "version": "3.9.7"
  }
 },
 "nbformat": 4,
 "nbformat_minor": 5
}
